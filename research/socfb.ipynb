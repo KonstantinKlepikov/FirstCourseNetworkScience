{
 "cells": [
  {
   "cell_type": "code",
   "execution_count": 6,
   "id": "6249187a",
   "metadata": {},
   "outputs": [],
   "source": [
    "import networkx as nx\n",
    "import random"
   ]
  },
  {
   "cell_type": "code",
   "execution_count": 2,
   "id": "e51a6c59",
   "metadata": {},
   "outputs": [],
   "source": [
    "G = nx.read_edgelist('../datasets/socfb-Northwestern25/socfb-Northwestern25.edgelist')"
   ]
  },
  {
   "cell_type": "code",
   "execution_count": 3,
   "id": "5d842a0b",
   "metadata": {},
   "outputs": [
    {
     "data": {
      "text/plain": [
       "10567"
      ]
     },
     "execution_count": 3,
     "metadata": {},
     "output_type": "execute_result"
    }
   ],
   "source": [
    "len(G)"
   ]
  },
  {
   "cell_type": "code",
   "execution_count": 4,
   "id": "bc2c9b96",
   "metadata": {},
   "outputs": [
    {
     "data": {
      "text/plain": [
       "10567"
      ]
     },
     "execution_count": 4,
     "metadata": {},
     "output_type": "execute_result"
    }
   ],
   "source": [
    "len(G.nodes)"
   ]
  },
  {
   "cell_type": "code",
   "execution_count": 5,
   "id": "91f315ef",
   "metadata": {},
   "outputs": [
    {
     "data": {
      "text/plain": [
       "False"
      ]
     },
     "execution_count": 5,
     "metadata": {},
     "output_type": "execute_result"
    }
   ],
   "source": [
    "nx.is_connected(G)"
   ]
  },
  {
   "cell_type": "markdown",
   "id": "fc21ec35",
   "metadata": {},
   "source": [
    "Shortest path"
   ]
  },
  {
   "cell_type": "code",
   "execution_count": 11,
   "id": "0cc53527",
   "metadata": {},
   "outputs": [
    {
     "name": "stdout",
     "output_type": "stream",
     "text": [
      "shortest=2.720603015075377, count=995, nopath=5\n"
     ]
    }
   ],
   "source": [
    "shortest = 0\n",
    "count = 0\n",
    "nopath = 0\n",
    "for i in range(1000):\n",
    "    nodes = random.sample(G.nodes, 2)\n",
    "    if nodes[0] != nodes[1]:\n",
    "        try:\n",
    "            path = nx.shortest_path_length(G, nodes[0], nodes[1])\n",
    "            shortest += path\n",
    "            count += 1\n",
    "        except nx.NetworkXNoPath:\n",
    "            nopath += 1\n",
    "\n",
    "shortest = shortest / count\n",
    "print(f'{shortest=}, {count=}, {nopath=}')\n",
    "        "
   ]
  },
  {
   "cell_type": "markdown",
   "id": "5ebcf04a",
   "metadata": {},
   "source": [
    "Diameter"
   ]
  },
  {
   "cell_type": "code",
   "execution_count": 12,
   "id": "b2207cb4",
   "metadata": {},
   "outputs": [
    {
     "name": "stdout",
     "output_type": "stream",
     "text": [
      "diam=5, count=998, nopath=2\n"
     ]
    }
   ],
   "source": [
    "diam = 0\n",
    "count = 0\n",
    "nopath = 0\n",
    "for i in range(1000):\n",
    "    nodes = random.sample(G.nodes, 2)\n",
    "    if nodes[0] != nodes[1]:\n",
    "        try:\n",
    "            path = nx.shortest_path_length(G, nodes[0], nodes[1])\n",
    "            diam = max(diam, path)\n",
    "            count += 1\n",
    "        except nx.NetworkXNoPath:\n",
    "            nopath += 1\n",
    "\n",
    "print(f'{diam=}, {count=}, {nopath=}')"
   ]
  },
  {
   "cell_type": "markdown",
   "id": "e1747f08",
   "metadata": {},
   "source": [
    "Clustering"
   ]
  },
  {
   "cell_type": "code",
   "execution_count": 14,
   "id": "2a231bea",
   "metadata": {},
   "outputs": [
    {
     "name": "stdout",
     "output_type": "stream",
     "text": [
      "clust=0.2365872219620027, count=1000\n"
     ]
    }
   ],
   "source": [
    "clust = 0\n",
    "count = 0\n",
    "for i in range(1000):\n",
    "    nodes = random.sample(G.nodes, 1)\n",
    "    clust += nx.clustering(G, nodes[0])\n",
    "    count += 1\n",
    "\n",
    "clust = clust / count\n",
    "print(f'{clust=}, {count=}')"
   ]
  },
  {
   "cell_type": "code",
   "execution_count": 17,
   "id": "097f5b97",
   "metadata": {},
   "outputs": [],
   "source": [
    "r = nx.degree_pearson_correlation_coefficient(G)"
   ]
  },
  {
   "cell_type": "code",
   "execution_count": 18,
   "id": "85a65da6",
   "metadata": {},
   "outputs": [
    {
     "data": {
      "text/plain": [
       "0.03444129080710931"
      ]
     },
     "execution_count": 18,
     "metadata": {},
     "output_type": "execute_result"
    }
   ],
   "source": [
    "r"
   ]
  },
  {
   "cell_type": "code",
   "execution_count": null,
   "id": "2a223a36",
   "metadata": {},
   "outputs": [],
   "source": []
  }
 ],
 "metadata": {
  "kernelspec": {
   "display_name": "Python 3 (ipykernel)",
   "language": "python",
   "name": "python3"
  },
  "language_info": {
   "codemirror_mode": {
    "name": "ipython",
    "version": 3
   },
   "file_extension": ".py",
   "mimetype": "text/x-python",
   "name": "python",
   "nbconvert_exporter": "python",
   "pygments_lexer": "ipython3",
   "version": "3.8.10"
  },
  "nbTranslate": {
   "displayLangs": [
    "ru",
    "en"
   ],
   "hotkey": "alt-t",
   "langInMainMenu": true,
   "sourceLang": "en",
   "targetLang": "ru",
   "useGoogleTranslate": true
  }
 },
 "nbformat": 4,
 "nbformat_minor": 5
}
